{
 "cells": [
  {
   "cell_type": "markdown",
   "metadata": {},
   "source": [
    "# Introduction\n",
    "In this notes I try to explain how maxvol based skeleton approximation works for matrices and tensors.\n",
    "I mostly use the following sources:\n",
    "https://oseledets.github.io/news/cross-approximation-intro/\n",
    "http://nbviewer.ipython.org/github/oseledets/nla2015/blob/b6af104bbe25e75be5c7314ad15eed3023752f53/lectures/lecture-15.ipynb\n",
    "https://advancedoptimizationatharvard.wordpress.com/2014/04/06/skeleton-decomposition/"
   ]
  },
  {
   "cell_type": "markdown",
   "metadata": {},
   "source": [
    "# Matrix case\n",
    "Suppose that an $n \\times m$ matrix $A$ has rank $r$. Then it can be exactly recovered from $r$ columns and $r$ rows as\n",
    "$$\n",
    "A = C \\hat{A}^{-1}R,\n",
    "$$\n",
    "where $C$ are $r$ columns of $A$, $R$ are $r$ rows of $A$ and $\\hat{A}$ is a submatrix on their intersection.\n",
    "That means, that only $(n+m)r$ elements are required.\n",
    "What about the stability of this decomposition?\n",
    "Suppose $A$ can be approximated with low rank only approximately:\n",
    "$$\n",
    "A=A_r+E,\n",
    "$$\n",
    "with $||E||=\\varepsilon$.\n",
    "Now the quality of approximation depends on the choice of the submatrix $\\hat{A}$. A good choice for\n",
    " the submatrix is the maximum volume: among all $r\\times r$ submatrices select the one that has largest volume, i.e. the maximum absolute value of the determinant.\n",
    "Then, the corresponding approximation\n",
    "$$\n",
    "||A - A_{\\text{maxvol}}||_C \\leq (r+1) \\sigma_{r+1},\n",
    "$$\n",
    "where $\\sigma_{r+1}$ is the $(r+1)$-th singular value of A and the error is measured in the Chebyshev norm (maximum absolute value).\n",
    "\n",
    "<img src=\"figures/skeletondecomposition.jpg\">\n"
   ]
  },
  {
   "cell_type": "markdown",
   "metadata": {},
   "source": [
    "# Finding the maximum volume submatrix\n",
    "The problem of finding the maximum volume submatrix is very hard in theory, but greedy algorithms work suprisingly well.\n",
    "## $n \\times r$ matrix\n",
    "Lets start with a simplified problem: given an $n \\times r$ matrix $A$ find $r$ rows corresponding to the maximum volume submatrix.\n",
    "\n",
    "We will use an iterative algorithm: it starts from a non-singular $r \\times r$ submatrix and then substitutes one row at a time (greedy approach).\n",
    "For this problem, the convergence is very fast. It is possible to avoid explicitly computing determinants and make the iteration time small (see details in the last section).\n",
    "\n",
    "An efficient implementations of the maxvol algorithm are available both [in MATLAB](https://github.com/oseledets/TT-Toolbox) and [in Python](https://github.com/oseledets/ttpy/tree/master/tt).\n",
    "\n",
    "## $n \\times m$ matrix\n",
    "\n",
    "\n",
    "\n",
    "## Speeding up iterations\n",
    "The reason why this greedy algorithm works so well is that you can implement each iteration efficiently, without actually computing determinants.\n",
    "\n",
    "This part is not that important and you can safely omit it.\n",
    "\n",
    "Start with some non-singular submatrix $\\widehat{A}$. Lets assume that we've chosen the first $r$ rows of $A$. Lets form a matrix $B = A \\widehat{A}^{-1}$:\n",
    "$$\n",
    "B = \\begin{pmatrix}\n",
    "I\\\\ \n",
    "Z\n",
    "\\end{pmatrix}\n",
    "$$\n",
    "Now that lets assume that we want to swap row $i <= r$ with row $j > r$ and obtain the new $B$ which we will call $B^{i,j}$.\n",
    "What is the new determinant?\n",
    "\n",
    "First of all, $|C D| = |C| |D|$, so the determinant of the new $\\widehat{A}_{\\text{new}}$ equals to the determinant of the first $r$ rows in $B^{i,j}$ times the determinant of old $\\widehat{A}_{\\text{old}}$. Consider an example with $r = 5$, $i = 3$ and \n",
    "$$\n",
    "\\underbrace{\\left | \\begin{pmatrix}\n",
    "A_{1, 1} & A_{1, 2} & A_{1, 3} & A_{1, 4} & A_{1, 5}\\\\ \n",
    "A_{2, 1} & A_{2, 2} & A_{2, 3} & A_{2, 4} & A_{2, 5}\\\\ \n",
    "A_{j, 1} & A_{j, 2} & A_{j, 3} & A_{j, 4} & A_{j, 5}\\\\ \n",
    "A_{4, 1} & A_{4, 2} & A_{4, 3} & A_{4, 4} & A_{4, 5}\\\\ \n",
    "A_{5, 1} & A_{5, 2} & A_{5, 3} & A_{5, 4} & A_{5, 5}\\\\ \n",
    "\\end{pmatrix}  \\right |}_{\\text{$\\widehat{A}_{\\text{new}}$}}\n",
    "=\n",
    "\\left |\\begin{pmatrix}\n",
    "1 & 0 & 0 & 0 & 0\\\\ \n",
    "0 & 1 & 0 & 0 & 0\\\\ \n",
    "B_{j,1} & B_{j,2} & B_{j,3} & B_{j,4} & B_{j,5}\\\\ \n",
    "0 & 0 & 0 & 1 & 0\\\\ \n",
    "0 & 0 & 0 & 0 & 1\n",
    "\\end{pmatrix}  \\right |\n",
    "\\underbrace{\\left | \\begin{pmatrix}\n",
    "A_{1, 1} & A_{1, 2} & A_{1, 3} & A_{1, 4} & A_{1, 5}\\\\ \n",
    "A_{2, 1} & A_{2, 2} & A_{2, 3} & A_{2, 4} & A_{2, 5}\\\\ \n",
    "A_{3, 1} & A_{3, 2} & A_{3, 3} & A_{3, 4} & A_{3, 5}\\\\ \n",
    "A_{4, 1} & A_{4, 2} & A_{4, 3} & A_{4, 4} & A_{4, 5}\\\\ \n",
    "A_{5, 1} & A_{5, 2} & A_{5, 3} & A_{5, 4} & A_{5, 5}\\\\ \n",
    "\\end{pmatrix}  \\right |}_{\\text{$\\widehat{A}_{\\text{old}}$, doesn't depend on $i$ and $j$}}\n",
    "$$\n",
    "\n",
    "Since the determinant of $\\widehat{A}_{\\text{old}}$ is fixed, we should choose the pair $(i, j)$ that maximazes the determinant of the first $r$ rows in $B^{i,j}$.\n",
    "\n",
    "Lets return to the example and use [the Laplace's formula](https://en.wikipedia.org/wiki/Determinant#Laplace.27s_formula_and_the_adjugate_matrix) for the $i$-th row:\n",
    "$$\n",
    "\\left |\\begin{pmatrix}\n",
    "1 & 0 & 0 & 0 & 0\\\\ \n",
    "0 & 1 & 0 & 0 & 0\\\\ \n",
    "B_{j,1} & B_{j,2} & B_{j,3} & B_{j,4} & B_{j,5}\\\\ \n",
    "0 & 0 & 0 & 1 & 0\\\\ \n",
    "0 & 0 & 0 & 0 & 1\n",
    "\\end{pmatrix}  \\right | = (-1)^{(3 + 1)} B_{j,1} \\underbrace{\\left |\\begin{pmatrix}\n",
    " 0 & 0 & 0 & 0\\\\ \n",
    " 1 & 0 & 0 & 0\\\\ \n",
    " 0 & 0 & 1 & 0\\\\ \n",
    " 0 & 0 & 0 & 1\n",
    "\\end{pmatrix}  \\right |}_{0} + (-1)^{(3 + 2)} B_{j,2} \\cdot 0 +(-1)^{(3 + 3)} B_{j,3}\\underbrace{\\left |\\begin{pmatrix}\n",
    " 1 & 0 & 0 & 0\\\\ \n",
    " 0 & 1 & 0 & 0\\\\ \n",
    " 0 & 0 & 1 & 0\\\\ \n",
    " 0 & 0 & 0 & 1\n",
    "\\end{pmatrix}  \\right |}_{1} + (-1)^{(3 + 4)} B_{j,4} \\cdot 0 + (-1)^{(3 + 5)}B_{j,5} \\cdot 0 = B_{j,3}\n",
    "$$\n",
    "\n",
    "In general, the determinant of the first $r$ rows of $B$ after swaping $i$-th and $j$-th rows is just the $(i, j)$ element: $|B^{i,j}| = B_{j, i}$.\n",
    "\n",
    "So to find the pair $(i, j)$ that maximizes the absolute value of the determinant we just have to find $(i, j) = arg\\max_{i, j} |B_{i j}|$.\n",
    "\n",
    "The algorithm:\n",
    "1. Chose some non-singular $r\\times r$ submatrix $\\widehat{A}_{\\text{old}}$ of A;\n",
    "2. Compute $B = A \\widehat{A}_{\\text{old}}^{-1}$;\n",
    "$$\n",
    "B = \\begin{pmatrix}\n",
    "I\\\\ \n",
    "Z\n",
    "\\end{pmatrix}\n",
    "$$\n",
    "3. Find the maximum absolute value element in $B$: $(i, j) = arg\\max_{i, j} |B_{i j}|$;\n",
    "4. Stop if maximal element is less than $(1+\\delta)$;\n",
    "5. Swap $i$-th row with $j$-th row;\n",
    "6. Update the matrix $B$ so it again would be equal to $B = A \\widehat{A}_{\\text{new}}^{-1}$.\n",
    "7. Goto 3.\n",
    "\n",
    "The only piece missing is how to efficiently update matrix $B$ after swapping two rows. To do it we have to recalculate $\\widehat{A}_{\\text{new}}^{-1}$, which is easy, since $\\widehat{A}_{\\text{new}}$ differs from $\\widehat{A}_{\\text{old}}$ only in one row ($i$-th), so we can use [Woodbury identity](https://en.wikipedia.org/wiki/Woodbury_matrix_identity) to update the inverse matrix."
   ]
  },
  {
   "cell_type": "code",
   "execution_count": 16,
   "metadata": {
    "collapsed": false
   },
   "outputs": [
    {
     "name": "stdout",
     "output_type": "stream",
     "text": [
      "2.22729951264e-13\n"
     ]
    }
   ],
   "source": [
    "%matplotlib inline\n",
    "import matplotlib.pylab as plt\n",
    "import numpy as np\n",
    "import tt\n",
    "from tt.maxvol import maxvol\n",
    "n = 256\n",
    "r = 10\n",
    "a = np.random.randn(*(n, r))\n",
    "ind = np.sort(maxvol(a, nswp=1))\n",
    "a_hat = A[ind, :]\n",
    "err = np.linalg.norm(a - a.dot(np.linalg.inv(a_hat)).dot(a_hat))\n",
    "print err"
   ]
  },
  {
   "cell_type": "code",
   "execution_count": 14,
   "metadata": {
    "collapsed": false
   },
   "outputs": [
    {
     "ename": "ValueError",
     "evalue": "shapes (256,1) and (10,10) not aligned: 1 (dim 1) != 10 (dim 0)",
     "output_type": "error",
     "traceback": [
      "\u001b[1;31m---------------------------------------------------------------------------\u001b[0m",
      "\u001b[1;31mValueError\u001b[0m                                Traceback (most recent call last)",
      "\u001b[1;32m<ipython-input-14-c78653f915c6>\u001b[0m in \u001b[0;36m<module>\u001b[1;34m()\u001b[0m\n\u001b[0;32m      6\u001b[0m \u001b[1;33m\u001b[0m\u001b[0m\n\u001b[0;32m      7\u001b[0m     \u001b[1;34m\"\"\" Computing maxvol indices \"\"\"\u001b[0m\u001b[1;33m\u001b[0m\u001b[0m\n\u001b[1;32m----> 8\u001b[1;33m     \u001b[0mindu\u001b[0m \u001b[1;33m=\u001b[0m \u001b[0mnp\u001b[0m\u001b[1;33m.\u001b[0m\u001b[0msort\u001b[0m\u001b[1;33m(\u001b[0m\u001b[0mmaxvol\u001b[0m\u001b[1;33m(\u001b[0m\u001b[0mu1\u001b[0m\u001b[1;33m.\u001b[0m\u001b[0mdot\u001b[0m\u001b[1;33m(\u001b[0m\u001b[0mnp\u001b[0m\u001b[1;33m.\u001b[0m\u001b[0mdiag\u001b[0m\u001b[1;33m(\u001b[0m\u001b[0ms\u001b[0m\u001b[1;33m)\u001b[0m\u001b[1;33m)\u001b[0m\u001b[1;33m)\u001b[0m\u001b[1;33m)\u001b[0m\u001b[1;33m\u001b[0m\u001b[0m\n\u001b[0m\u001b[0;32m      9\u001b[0m     \u001b[0mindv\u001b[0m \u001b[1;33m=\u001b[0m \u001b[0mnp\u001b[0m\u001b[1;33m.\u001b[0m\u001b[0msort\u001b[0m\u001b[1;33m(\u001b[0m\u001b[0mmaxvol\u001b[0m\u001b[1;33m(\u001b[0m\u001b[0mv1\u001b[0m\u001b[1;33m)\u001b[0m\u001b[1;33m)\u001b[0m\u001b[1;33m\u001b[0m\u001b[0m\n\u001b[0;32m     10\u001b[0m     \u001b[0mC\u001b[0m \u001b[1;33m=\u001b[0m \u001b[0ma\u001b[0m\u001b[1;33m[\u001b[0m\u001b[1;33m:\u001b[0m\u001b[1;33m,\u001b[0m \u001b[0mindv\u001b[0m\u001b[1;33m]\u001b[0m\u001b[1;33m\u001b[0m\u001b[0m\n",
      "\u001b[1;31mValueError\u001b[0m: shapes (256,1) and (10,10) not aligned: 1 (dim 1) != 10 (dim 0)"
     ]
    }
   ],
   "source": [
    "for r in [1, 5, 10, 15]:\n",
    "    u1 = u[:, :r]\n",
    "    v1 = v[:r, :]\n",
    "    v1 = v1.T\n",
    "    s1 = s[:r]\n",
    "    \n",
    "    \"\"\" Computing maxvol indices \"\"\"\n",
    "    indu = np.sort(maxvol(u1.dot(np.diag(s))))\n",
    "    indv = np.sort(maxvol(v1))\n",
    "    C = a[:, indv]\n",
    "    C = np.linalg.solve(C[indu, :].T, C.T).T # Computing CC^{-1}\n",
    "    R = a[indu, :]\n",
    "    \n",
    "    er_skel = np.linalg.norm(a - np.dot(C, R))\n",
    "    \n",
    "    print 'SVD er:', er_svd, 'Skeleton er:', er_skel"
   ]
  },
  {
   "cell_type": "code",
   "execution_count": null,
   "metadata": {
    "collapsed": true
   },
   "outputs": [],
   "source": []
  }
 ],
 "metadata": {
  "kernelspec": {
   "display_name": "Python 2",
   "language": "python",
   "name": "python2"
  },
  "language_info": {
   "codemirror_mode": {
    "name": "ipython",
    "version": 2
   },
   "file_extension": ".py",
   "mimetype": "text/x-python",
   "name": "python",
   "nbconvert_exporter": "python",
   "pygments_lexer": "ipython2",
   "version": "2.7.10"
  }
 },
 "nbformat": 4,
 "nbformat_minor": 0
}
